{
 "cells": [
  {
   "cell_type": "markdown",
   "metadata": {},
   "source": [
    "### Homework Week 02\n",
    "#### Loops, Functions and Classes\n",
    "1. Do this homework **in order**. \n",
    "2. Be sure to have a solid understanding of Functions before working with Classes. "
   ]
  },
  {
   "cell_type": "markdown",
   "metadata": {},
   "source": [
    "1. Iterate through `integers_list` and `print` values that are multiples of 7."
   ]
  },
  {
   "cell_type": "code",
   "execution_count": 1,
   "metadata": {},
   "outputs": [
    {
     "name": "stdout",
     "output_type": "stream",
     "text": [
      "182\n",
      "525\n"
     ]
    }
   ],
   "source": [
    "import random\n",
    "integers_list = [random.randint(0,1000) for i in range(50)] # a list comprehension\n",
    "\n",
    "for num in integers_list:\n",
    "    if num % 7 == 0:\n",
    "        print(num)\n",
    "    else:\n",
    "        continue"
   ]
  },
  {
   "cell_type": "markdown",
   "metadata": {},
   "source": [
    "2. Create `list` of 5 colors as `strings` which are all lowercase. \n",
    "Iterate through the `list` and capitalize each color. \n",
    "You should modify the `list` in place. "
   ]
  },
  {
   "cell_type": "code",
   "execution_count": 2,
   "metadata": {},
   "outputs": [
    {
     "name": "stdout",
     "output_type": "stream",
     "text": [
      "Red\n",
      "Orange\n",
      "Green\n",
      "Blue\n",
      "Purple\n"
     ]
    }
   ],
   "source": [
    "list = [\"red\", \"orange\", \"green\", \"blue\", \"purple\"]\n",
    "\n",
    "for i in list:\n",
    "    print(i.capitalize())"
   ]
  },
  {
   "cell_type": "markdown",
   "metadata": {},
   "source": [
    "3. Loop through the string and eliminate all the asterisks."
   ]
  },
  {
   "cell_type": "code",
   "execution_count": 3,
   "metadata": {},
   "outputs": [
    {
     "name": "stdout",
     "output_type": "stream",
     "text": [
      "My computer has gone crazy and added extra symbols.\n"
     ]
    }
   ],
   "source": [
    "asterisk = 'My *compu*ter has go*ne craz***y an*d add*ed extra *symbols.*'\n",
    "\n",
    "for i in asterisk:\n",
    "    fix_asterisk = asterisk.replace(\"*\", \"\")\n",
    "    \n",
    "print(fix_asterisk)"
   ]
  },
  {
   "cell_type": "markdown",
   "metadata": {},
   "source": [
    "4. Write a `while` loop that increments `counter` until it reaches 7."
   ]
  },
  {
   "cell_type": "code",
   "execution_count": 4,
   "metadata": {},
   "outputs": [
    {
     "name": "stdout",
     "output_type": "stream",
     "text": [
      "1\n",
      "2\n",
      "3\n",
      "4\n",
      "5\n",
      "6\n",
      "7\n"
     ]
    }
   ],
   "source": [
    "counter = 0\n",
    "while counter != 7:\n",
    "    counter = counter + 1\n",
    "    print(counter)"
   ]
  },
  {
   "cell_type": "markdown",
   "metadata": {},
   "source": [
    "5. Loop over `double_trouble` and eliminate any 'mosquito'."
   ]
  },
  {
   "cell_type": "code",
   "execution_count": 5,
   "metadata": {},
   "outputs": [
    {
     "name": "stdout",
     "output_type": "stream",
     "text": [
      "0 cat\n",
      "Second Loop:  0 c\n",
      "Second Loop:  1 a\n",
      "Second Loop:  2 t\n",
      "1 dog\n",
      "Second Loop:  0 d\n",
      "Second Loop:  1 o\n",
      "Second Loop:  2 g\n",
      "2 ['mouse', 'mosquito', 'bat', 'mosquito']\n",
      "Second Loop:  0 mouse\n",
      "Second Loop:  1 mosquito\n",
      "Second Loop:  2 mosquito\n",
      "3 ['elephant', 'dog', 'whale', 'lion', 32, 'mosquito']\n",
      "Second Loop:  0 elephant\n",
      "Second Loop:  1 dog\n",
      "Second Loop:  2 whale\n",
      "Second Loop:  3 lion\n",
      "Second Loop:  4 32\n",
      "Second Loop:  5 mosquito\n",
      "4 bird\n",
      "Second Loop:  0 b\n",
      "Second Loop:  1 i\n",
      "Second Loop:  2 r\n",
      "Second Loop:  3 d\n",
      "5 []\n",
      "6 mosquitoe\n",
      "Second Loop:  0 m\n",
      "Second Loop:  1 o\n",
      "Second Loop:  2 s\n",
      "Second Loop:  3 q\n",
      "Second Loop:  4 u\n",
      "Second Loop:  5 i\n",
      "Second Loop:  6 t\n",
      "Second Loop:  7 o\n",
      "Second Loop:  8 e\n"
     ]
    },
    {
     "data": {
      "text/plain": [
       "['cat',\n",
       " 'dog',\n",
       " ['mouse', 'bat'],\n",
       " ['elephant', 'dog', 'whale', 'lion', 32],\n",
       " 'bird',\n",
       " [],\n",
       " 'mosquitoe']"
      ]
     },
     "execution_count": 5,
     "metadata": {},
     "output_type": "execute_result"
    }
   ],
   "source": [
    "double_trouble = ['cat', 'dog', ['mouse','mosquito','bat','mosquito'],['elephant','dog','whale','lion',32,'mosquito'],'bird',[],'mosquitoe']\n",
    "for index, i in enumerate(double_trouble):\n",
    "    print(index, i)\n",
    "    if i == 'mosquito':\n",
    "        double_trouble.pop(index)\n",
    "    else:\n",
    "        for second_index, second_i in enumerate(i):\n",
    "            print(\"Second Loop: \", second_index, second_i)\n",
    "            if second_i == 'mosquito':\n",
    "                i.pop(second_index)\n",
    "double_trouble\n",
    "#Why is bat missing from the second loop printout?"
   ]
  },
  {
   "cell_type": "markdown",
   "metadata": {},
   "source": [
    "6. Loop through the dictionary of phone numbers and correct the parentheses. "
   ]
  },
  {
   "cell_type": "code",
   "execution_count": 6,
   "metadata": {},
   "outputs": [
    {
     "data": {
      "text/plain": [
       "{'Jill': '1-(555)-567-8910',\n",
       " 'Jen': '1-(555)-567-8910',\n",
       " 'Jan': '1-(555)-567-8910',\n",
       " 'Jane': '1-(555)-567-8910',\n",
       " 'Jerri': '1-(555)-567-8910'}"
      ]
     },
     "execution_count": 6,
     "metadata": {},
     "output_type": "execute_result"
    }
   ],
   "source": [
    "phone_numbers = {'Jill':'1-)555(-567-8910',\n",
    "                'Jen':'1-)555(-567-8910',\n",
    "                'Jan':'1-)555(-567-8910',\n",
    "                'Jane':'1-)555(-567-8910',\n",
    "                'Jerri':'1-)555(-567-8910'}\n",
    "\n",
    "for name, number in phone_numbers.items():\n",
    "    phone_numbers[name] = '1-(555)-567-8910'\n",
    "phone_numbers"
   ]
  },
  {
   "cell_type": "markdown",
   "metadata": {},
   "source": [
    "7. Create a function that takes in two numbers.\n",
    "\n",
    "If the numbers are both even add them and `return` the result.\n",
    "\n",
    "If the numbers are odd, subtract the second number from the first and `return` the result.\n",
    "\n",
    "(Assume you'll always get integers)"
   ]
  },
  {
   "cell_type": "code",
   "execution_count": 7,
   "metadata": {},
   "outputs": [
    {
     "data": {
      "text/plain": [
       "10"
      ]
     },
     "execution_count": 7,
     "metadata": {},
     "output_type": "execute_result"
    }
   ],
   "source": [
    "def num_game(num1, num2):\n",
    "    if num1 and num2 % 2 == 0:\n",
    "        return num1 + num2\n",
    "    elif num1 and num2 % 2 == 1:\n",
    "        return num1 - num2\n",
    "    else:\n",
    "        print(\"I don't know how to do that\")\n",
    "\n",
    "num_game(6,4)"
   ]
  },
  {
   "cell_type": "markdown",
   "metadata": {},
   "source": [
    "8. Create a function that takes in a `string` and removes all non-alphanumeric characters."
   ]
  },
  {
   "cell_type": "code",
   "execution_count": 8,
   "metadata": {},
   "outputs": [
    {
     "name": "stdout",
     "output_type": "stream",
     "text": [
      "DoesThisWork\n"
     ]
    }
   ],
   "source": [
    "def string_clean(string):\n",
    "    clean_filter = filter(str.isalnum, string)\n",
    "    alnum_string = \"\".join(clean_filter)\n",
    "    print(alnum_string)\n",
    "    \n",
    "string_clean('Do*es T#hi$s W@ork?')"
   ]
  },
  {
   "cell_type": "markdown",
   "metadata": {},
   "source": [
    "9. Create a function to convert Celsius to Farenheight and print the result. \n",
    "\n",
    "Bonus(Optional): Include the degree symbol in the output."
   ]
  },
  {
   "cell_type": "code",
   "execution_count": 9,
   "metadata": {},
   "outputs": [
    {
     "data": {
      "text/plain": [
       "'77.0°F'"
      ]
     },
     "execution_count": 9,
     "metadata": {},
     "output_type": "execute_result"
    }
   ],
   "source": [
    "def temp_conv_c(celsius):\n",
    "    form = celsius * (9/5) + 32\n",
    "    return str(form) + '\\u00b0F' #Unicode for degree symbol + F\n",
    "\n",
    "temp_conv_c(25)"
   ]
  },
  {
   "cell_type": "markdown",
   "metadata": {},
   "source": [
    "10. Create a function that prints the fibonacci sequence from 0 to 25. "
   ]
  },
  {
   "cell_type": "code",
   "execution_count": 10,
   "metadata": {},
   "outputs": [
    {
     "name": "stdout",
     "output_type": "stream",
     "text": [
      "  0:   0\n",
      "  1:   1\n",
      "  2:   1\n",
      "  3:   2\n",
      "  4:   3\n",
      "  5:   5\n",
      "  6:   8\n",
      "  7:  13\n",
      "  8:  21\n",
      "  9:  34\n",
      " 10:  55\n",
      " 11:  89\n",
      " 12: 144\n",
      " 13: 233\n",
      " 14: 377\n",
      " 15: 610\n",
      " 16: 987\n",
      " 17: 1597\n",
      " 18: 2584\n",
      " 19: 4181\n",
      " 20: 6765\n",
      " 21: 10946\n",
      " 22: 17711\n",
      " 23: 28657\n",
      " 24: 46368\n"
     ]
    }
   ],
   "source": [
    "def fib_seq():\n",
    "    a, b = 0, 1\n",
    "    while True:\n",
    "        yield a\n",
    "        a, b = b, a + b\n",
    "\n",
    "for index, fibonacci_number in zip(range(25), fib_seq()):            #Come back to this; Don't understand the answer\n",
    "     print('{i:3}: {f:3}'.format(i=index, f=fibonacci_number))"
   ]
  },
  {
   "cell_type": "markdown",
   "metadata": {},
   "source": [
    "11. Create two functions. One function that accepts args `a` and `b` and returns `a + b`. \n",
    "\n",
    "Create a second function that accepts the first function as the 3rd argument as well as a and b.\n"
   ]
  },
  {
   "cell_type": "code",
   "execution_count": 11,
   "metadata": {},
   "outputs": [
    {
     "name": "stdout",
     "output_type": "stream",
     "text": [
      "5\n"
     ]
    },
    {
     "data": {
      "text/plain": [
       "0.38461538461538464"
      ]
     },
     "execution_count": 11,
     "metadata": {},
     "output_type": "execute_result"
    }
   ],
   "source": [
    "# you do the first function\n",
    "def some_function(a,b):\n",
    "    return a + b\n",
    "# second function\n",
    "# Here's some starter code to avoid confusion.\n",
    "# Functions can be passed around like any other object. \n",
    "def second_function(a,b,some_function):\n",
    "    return some_function (a,b) / (a**2 + b**2)\n",
    "\n",
    "print(some_function(2,3))\n",
    "second_function(2,3,some_function)"
   ]
  },
  {
   "cell_type": "code",
   "execution_count": null,
   "metadata": {},
   "outputs": [],
   "source": [
    "                                       "
   ]
  },
  {
   "cell_type": "markdown",
   "metadata": {},
   "source": [
    "12. Create a function that prints prime number from 0 to 100. "
   ]
  },
  {
   "cell_type": "code",
   "execution_count": 12,
   "metadata": {},
   "outputs": [
    {
     "name": "stdout",
     "output_type": "stream",
     "text": [
      "100\n"
     ]
    }
   ],
   "source": [
    "def prime_num():\n",
    "    for n in range(0,101):\n",
    "        if n > 1:\n",
    "            for i in range(2,101):\n",
    "                if (n % i) == 0:\n",
    "                    continue                     #Not correct yet!!!!\n",
    "    else:\n",
    "        print(n)\n",
    "\n",
    "prime_num()"
   ]
  },
  {
   "cell_type": "markdown",
   "metadata": {},
   "source": [
    "13. Now's your chance to show off. Create a function that does something that has not already been done in the homework. Get creative. "
   ]
  },
  {
   "cell_type": "code",
   "execution_count": 13,
   "metadata": {},
   "outputs": [
    {
     "name": "stdout",
     "output_type": "stream",
     "text": [
      "0 [50, 46, 4.2]\n",
      "1 [48, 42, 3.8]\n",
      "2 [49, 43, 4.9]\n",
      "3 [50, 42, 3.5]\n",
      "4 [49, 38, 4.3]\n",
      "5 [49, 40, 3.5]\n",
      "The Democratic nominee poll average is currently: 49.166666666666664\n",
      "The Republican nominee poll average is currently: 41.833333333333336\n",
      "The average poll error is currently: 4.033333333333333\n"
     ]
    }
   ],
   "source": [
    "def agg_poll(poll_list):\n",
    "    d_num = []\n",
    "    r_num = []\n",
    "    err = []\n",
    "    for index, list in enumerate(poll_list):                       #Iterate to each nested loop\n",
    "        print(index, list)\n",
    "        d_num.append(list[0])\n",
    "        r_num.append(list[1])\n",
    "        err.append(list[2])\n",
    "\n",
    "    d_num = sum(d_num) / len(d_num)\n",
    "    r_num = sum(r_num) / len(r_num)\n",
    "    err = sum(err) / len(err)\n",
    "\n",
    "    print(\"The Democratic nominee poll average is currently: \" + str(d_num))\n",
    "    print(\"The Republican nominee poll average is currently: \" + str(r_num))\n",
    "    print(\"The average poll error is currently: \" + str(err))\n",
    "\n",
    "num_WI = [[50, 46, 4.2], [48, 42, 3.8], [49, 43, 4.9], [50, 42, 3.5], [49, 38, 4.3], [49, 40, 3.5]]\n",
    "agg_poll(num_WI)"
   ]
  },
  {
   "cell_type": "markdown",
   "metadata": {},
   "source": [
    "14. Add an attribute called `age` to the `__init__` method of the `Person` class.\n",
    "\n",
    "Create an instance of `Person()` and print the `age`."
   ]
  },
  {
   "cell_type": "code",
   "execution_count": 14,
   "metadata": {},
   "outputs": [
    {
     "data": {
      "text/plain": [
       "37"
      ]
     },
     "execution_count": 14,
     "metadata": {},
     "output_type": "execute_result"
    }
   ],
   "source": [
    "class Person():\n",
    "    \n",
    "    def __init__(self, name, occupation, country, age):\n",
    "        self.name = name\n",
    "        self.occupation = occupation\n",
    "        self.country = country\n",
    "        self.age = age\n",
    "\n",
    "test_p = Person('Brandi', 'student', 'USA', 37)\n",
    "\n",
    "test_p.age"
   ]
  },
  {
   "cell_type": "markdown",
   "metadata": {},
   "source": [
    "15. Creat an instance of the class `Candy`. \n",
    "\n",
    "Add an attribute called `cost` on your instance. (Don't modify the class starter code.)\n",
    "\n",
    "Print the instance's `cost` attribute.\n",
    "\n",
    "Bonus(optional): Add a function of your choice to the instance. "
   ]
  },
  {
   "cell_type": "code",
   "execution_count": 15,
   "metadata": {},
   "outputs": [
    {
     "name": "stdout",
     "output_type": "stream",
     "text": [
      "$1.25\n"
     ]
    }
   ],
   "source": [
    "class Candy():\n",
    "    \n",
    "    def __init__(self, kind='chocolate', brand= 'Nestle', caramel = False):\n",
    "        self.type = kind\n",
    "        self.brand = brand\n",
    "        self.caramel = caramel\n",
    "        \n",
    "candy_cost = Candy()\n",
    "candy_cost.cost = 1.25\n",
    "print(\"$\" + str(candy_cost.cost))"
   ]
  },
  {
   "cell_type": "code",
   "execution_count": null,
   "metadata": {},
   "outputs": [],
   "source": []
  },
  {
   "cell_type": "markdown",
   "metadata": {},
   "source": [
    "16. Add an instance method to our class `Greet` that prints a greeting including `greeting` and the `name`. \n",
    "\n",
    "Example:\n",
    "\n",
    "`jen = Greet()`\n",
    "\n",
    "`jen.greet_method()` returns `\"Hello Jennifer\"`\n"
   ]
  },
  {
   "cell_type": "code",
   "execution_count": 16,
   "metadata": {},
   "outputs": [
    {
     "ename": "SyntaxError",
     "evalue": "unexpected EOF while parsing (<ipython-input-16-25a7d36d64cd>, line 11)",
     "output_type": "error",
     "traceback": [
      "\u001b[1;36m  File \u001b[1;32m\"<ipython-input-16-25a7d36d64cd>\"\u001b[1;36m, line \u001b[1;32m11\u001b[0m\n\u001b[1;33m    print(greet_method.greeting + \" \" + greet_method.name     #Unsure if done correctly. What if defaults needed to be changed?\u001b[0m\n\u001b[1;37m                                                                                                                               ^\u001b[0m\n\u001b[1;31mSyntaxError\u001b[0m\u001b[1;31m:\u001b[0m unexpected EOF while parsing\n"
     ]
    }
   ],
   "source": [
    "class Greet():\n",
    "    \n",
    "    def __init__(self, name='Jennifer', language='english', greeting=\"Hello\"):\n",
    "        \n",
    "        self.language = language\n",
    "        self.greeting = greeting\n",
    "        self.name = name\n",
    "        \n",
    "    # Your method here\n",
    "greet_method = Greet()\n",
    "print(greet_method.greeting + \" \" + greet_method.name     #Unsure if done correctly. What if defaults needed to be changed?"
   ]
  },
  {
   "cell_type": "markdown",
   "metadata": {},
   "source": [
    "17. Add a line to the follwing code that will increment `employee_count` by 1 for **all** instances of `Employee`.\n",
    "\n",
    "The code should run each time an new instance of`Employee` is created. \n",
    "\n",
    "Hint: You don't need methods. Just a single expression will work. And it does NOT inlcude the word `self`. "
   ]
  },
  {
   "cell_type": "code",
   "execution_count": null,
   "metadata": {},
   "outputs": [],
   "source": [
    "class Employee():\n",
    "    \n",
    "    # class variables. Applies to all instances of this class during creation.\n",
    "    yearly_bonus = 1.01 # not used anywhere in this example\n",
    "    \n",
    "    employee_count = 0 # This variable will change for all instances of the class.\n",
    "    \n",
    "       \n",
    "    def __init__(self,name, age, base_pay): # creates an instance of our object with unique attributes\n",
    "        \n",
    "        self.name = name\n",
    "        self.age = age\n",
    "        self.base_pay = base_pay\n",
    "        \n",
    "        \n",
    "        # your code here inside the __init__ method. \n",
    "        Employee.employee_count += 1  #Must reference the Class name and use dot syntax\n",
    "        \n",
    "emp1 = Employee('Matt', 32,40000)\n",
    "print(emp1.employee_count) # should be 1 if the __init__ method is working properly. \n",
    "\n",
    "emp2 = emp1 = Employee('Joe', 22,50000) # should be 2 if the __init__ method is working properly. \n",
    "print(emp2.employee_count)\n",
    "\n"
   ]
  },
  {
   "cell_type": "markdown",
   "metadata": {},
   "source": [
    "18 . Add a `static` method of your choice to the class below. \n",
    "\n",
    "Instaiate an object and call your method. \n",
    "\n",
    "What is a static method anyway? \n"
   ]
  },
  {
   "cell_type": "code",
   "execution_count": null,
   "metadata": {},
   "outputs": [],
   "source": [
    "class actress():\n",
    "    def __init__(self, name = 'Meryl Streep'):\n",
    "        self.name = name\n",
    "        \n",
    "    def act(self, line):\n",
    "        print(f'{self.name}: {line}')\n",
    "        \n",
    "    # your static method goes here.\n",
    "    def fave_movie(movie):            #Unsure if right; Left empty first and given positional argument error (0 expected, 1 recv'd)\n",
    "        print(\"Suffragette\")\n",
    "meryl = actress()\n",
    "meryl.act('This is my line...')\n",
    "meryl.fave_movie()"
   ]
  },
  {
   "cell_type": "code",
   "execution_count": null,
   "metadata": {},
   "outputs": [],
   "source": [
    "#A static method is a method created within a class that doesn't take self or cls as parameters, and therefore has no access to the class\n",
    "#or objects within the class. They are primarily used as namespace, to ID to other devs what the intent of your class was, and to speed\n",
    "#up testing/debugging."
   ]
  },
  {
   "cell_type": "markdown",
   "metadata": {},
   "source": [
    "19. Create a `class` called Car that accepts 3 attributes (make, model and year). \n",
    "\n",
    "In the `__init__` method give your instance those three attributes. \n",
    "\n",
    "Instantiate (create) an object that is your dream car. \n",
    "\n",
    "Print the make of your dream car using the object attributes. \n",
    "\n",
    "Then call the dir() method on your new object. (See your attrs are now included!)"
   ]
  },
  {
   "cell_type": "code",
   "execution_count": null,
   "metadata": {},
   "outputs": [],
   "source": [
    "class Car():\n",
    "    def __init__(self, make = \"Tesla\", model = \"Cybertruck\", year = 2022):\n",
    "        self.make = make\n",
    "        self.model = model\n",
    "        self.year = year\n",
    "\n",
    "dream_car = Car()\n",
    "print(str(dream_car.year) + \" \" + dream_car.make + \" \" + dream_car.model)\n",
    "dir(dream_car)"
   ]
  },
  {
   "cell_type": "markdown",
   "metadata": {},
   "source": [
    "20. Create a class called `Dice` that accepts a single argument called `number_of_dice`. \n",
    "\n",
    "Create an instance method called `roll`. \n",
    "\n",
    "`roll` should randomly pick a number for each die when called and print the results as a list. \n",
    "\n",
    "Create an instance of `Dice`. Then call `roll()` on your instance.\n",
    "\n",
    "Hint: Inside your class create an empty list called `dice`."
   ]
  },
  {
   "cell_type": "code",
   "execution_count": null,
   "metadata": {},
   "outputs": [],
   "source": [
    "# Helpful starter code\n",
    "from random import randrange\n",
    "\n",
    "print(randrange(1,7)) # randomly generates a number between 1 and 6\n",
    "\n",
    "class Dice():\n",
    "    dice = []\n",
    "    \n",
    "    def __init__(self, number_of_dice):\n",
    "        self.number_of_dice = 1\n",
    "    \n",
    "    def roll(self):\n",
    "        self.rolled_value = randrange(1,7)\n",
    "\n",
    "test_roll = Dice(1)\n",
    "print(test_roll)"
   ]
  },
  {
   "cell_type": "code",
   "execution_count": null,
   "metadata": {},
   "outputs": [],
   "source": []
  },
  {
   "cell_type": "markdown",
   "metadata": {},
   "source": [
    "Bonus(optional):\n",
    "\n",
    "0. Create a class of your choice.\n",
    "1. Give it instance variables and class variables. \n",
    "2. Give it a classmethod. \n",
    "3. Give it a regular method (instance method).\n",
    "4. Give it a static method. \n",
    "\n",
    "Show how each works by printing an example. "
   ]
  },
  {
   "cell_type": "code",
   "execution_count": null,
   "metadata": {},
   "outputs": [],
   "source": []
  }
 ],
 "metadata": {
  "kernelspec": {
   "display_name": "Python 3",
   "language": "python",
   "name": "python3"
  },
  "language_info": {
   "codemirror_mode": {
    "name": "ipython",
    "version": 3
   },
   "file_extension": ".py",
   "mimetype": "text/x-python",
   "name": "python",
   "nbconvert_exporter": "python",
   "pygments_lexer": "ipython3",
   "version": "3.8.5"
  }
 },
 "nbformat": 4,
 "nbformat_minor": 4
}
