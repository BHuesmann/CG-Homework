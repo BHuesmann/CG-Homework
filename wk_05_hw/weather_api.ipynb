{
 "cells": [
  {
   "cell_type": "markdown",
   "metadata": {},
   "source": [
    "### OpenWeatherMap\n",
    "Free Weather API\n",
    "\n",
    "https://openweathermap.org/\n",
    "#### Create account\n",
    "1. Create your account. \n",
    "2. Generate API Key.\n",
    "3. Create a file called `api_keys.py`\n",
    "    - add a variable `api_key = 'YOUR API KEY HERE'`\n",
    "4. Save API key.\n",
    "5. Add `.gitignore file`\n",
    "    - Open your terminal. \n",
    "    - cd into this repo.\n",
    "    - `touch .gitignore`\n",
    "    - open `.gitignore`\n",
    "    - add a line `api_keys.py` to the file\n",
    "    - this file will instruct git to ignore these files\n",
    "    - You do not want API keys to be available to the public!"
   ]
  },
  {
   "cell_type": "markdown",
   "metadata": {},
   "source": [
    "#### Add an api key file\n",
    "1. Create a file in this directory called `api_keys.py`\n",
    "2. add the line `api_key=\"YOUR_KEY_HERE\"`\n",
    "3. Place your generated key into this file.\n",
    "3. Be sure to SAVE the file."
   ]
  },
  {
   "cell_type": "code",
   "execution_count": 1,
   "metadata": {},
   "outputs": [
    {
     "name": "stdout",
     "output_type": "stream",
     "text": [
      "471feda468d4eafc5fa44f7a143d5355\n"
     ]
    }
   ],
   "source": [
    "from api_keys import api_key\n",
    "\n",
    "# you imported a variable name api_key\n",
    "# keys should be kept safe! \n",
    "print(api_key)\n",
    "\n",
    "# Another note about imports. Once you do an import Python will not do it again even if you call import again. \n",
    "# It will just skip it. You are importing your api_keys. If you make a change and rerun the cell the value will be the same. \n",
    "# You must restart your kernel in a jupyter notebook to do a fresh import. \n",
    "# This can be a strange bug for beginners. \n",
    "\n",
    "# OPTIONAL: Change the variable value of your API key and watch this in action!"
   ]
  },
  {
   "cell_type": "markdown",
   "metadata": {},
   "source": [
    "#### Do the following in a terminal:\n",
    "`pip install requests citipy`"
   ]
  },
  {
   "cell_type": "code",
   "execution_count": 3,
   "metadata": {},
   "outputs": [],
   "source": [
    "# pprint is already installed\n",
    "import requests, citipy, pandas as pd\n",
    "from pprint import pprint"
   ]
  },
  {
   "cell_type": "markdown",
   "metadata": {},
   "source": [
    "[URL Link1](https://developer.mozilla.org/en-US/docs/Learn/Common_questions/What_is_a_URL)\n",
    "\n",
    "[URL Link2](https://websitebuilders.com/how-to/web-at-a-glance/url-anatomy/)\n",
    "\n",
    "[Requests Library Documentation](https://requests.readthedocs.io/en/master/user/quickstart/)\n",
    "\n",
    "Pay particular attention to the `parameters` section. "
   ]
  },
  {
   "cell_type": "code",
   "execution_count": 4,
   "metadata": {},
   "outputs": [
    {
     "name": "stdout",
     "output_type": "stream",
     "text": [
      "<!doctype html>\n",
      "<html>\n",
      "<head>\n",
      "    <title>Example Domain</title>\n",
      "\n",
      "    <meta charset=\"utf-8\" />\n",
      "    <meta http-equiv=\"Content-type\" content=\"text/html; charset=utf-8\" />\n",
      "    <meta name=\"viewport\" content=\"width=device-width, initial-scale=1\" />\n",
      "    <style type=\"text/css\">\n",
      "    body {\n",
      "        background-color: #f0f0f2;\n",
      "        margin: 0;\n",
      "        padding: 0;\n",
      "        font-family: -apple-system, system-ui, BlinkMacSystemFont, \"Segoe UI\", \"Open Sans\", \"Helvetica Neue\", Helvetica, Arial, sans-serif;\n",
      "        \n",
      "    }\n",
      "    div {\n",
      "        width: 600px;\n",
      "        margin: 5em auto;\n",
      "        padding: 2em;\n",
      "        background-color: #fdfdff;\n",
      "        border-radius: 0.5em;\n",
      "        box-shadow: 2px 3px 7px 2px rgba(0,0,0,0.02);\n",
      "    }\n",
      "    a:link, a:visited {\n",
      "        color: #38488f;\n",
      "        text-decoration: none;\n",
      "    }\n",
      "    @media (max-width: 700px) {\n",
      "        div {\n",
      "            margin: 0 auto;\n",
      "            width: auto;\n",
      "        }\n",
      "    }\n",
      "    </style>    \n",
      "</head>\n",
      "\n",
      "<body>\n",
      "<div>\n",
      "    <h1>Example Domain</h1>\n",
      "    <p>This domain is for use in illustrative examples in documents. You may use this\n",
      "    domain in literature without prior coordination or asking for permission.</p>\n",
      "    <p><a href=\"https://www.iana.org/domains/example\">More information...</a></p>\n",
      "</div>\n",
      "</body>\n",
      "</html>\n",
      "\n"
     ]
    }
   ],
   "source": [
    "# variable for a url\n",
    "url = 'http://www.example.com'\n",
    "\n",
    "# Very popular and great example of good python library\n",
    "# the requests library is used to send all types of http requests\n",
    "req = requests.get(url)\n",
    "\n",
    "# Uncommment dir(req) and see what's available to you.\n",
    "dir(req)\n",
    "\n",
    "print(req.text)\n",
    "# req.text gives html\n",
    "# This is how web-scraping is done. \n",
    "# Note the html tags"
   ]
  },
  {
   "cell_type": "code",
   "execution_count": 23,
   "metadata": {},
   "outputs": [
    {
     "name": "stdout",
     "output_type": "stream",
     "text": [
      "{\"coord\":{\"lon\":-90.2,\"lat\":38.63},\"weather\":[{\"id\":800,\"main\":\"Clear\",\"description\":\"clear sky\",\"icon\":\"01d\"}],\"base\":\"stations\",\"main\":{\"temp\":71.85,\"feels_like\":64.22,\"temp_min\":69.01,\"temp_max\":73.99,\"pressure\":1024,\"humidity\":38},\"visibility\":10000,\"wind\":{\"speed\":11.41,\"deg\":40,\"gust\":21.92},\"clouds\":{\"all\":1},\"dt\":1600461042,\"sys\":{\"type\":1,\"id\":3689,\"country\":\"US\",\"sunrise\":1600429527,\"sunset\":1600473850},\"timezone\":-18000,\"id\":4407066,\"name\":\"St Louis\",\"cod\":200}\n"
     ]
    }
   ],
   "source": [
    "# get weather data for saint louis\n",
    "\n",
    "# base url for all requests. We can change the city to find data for different cities\n",
    "base_url = \"http://api.openweathermap.org/data/2.5/weather?units=Imperial&APPID=\" + api_key\n",
    "city = 'st. louis'\n",
    "\n",
    "# f-strings to the rescue!\n",
    "# Note the parameter formating\n",
    "req = requests.get(base_url + f'&q={city}')\n",
    "\n",
    "# generate a string of data\n",
    "print(req.text)\n"
   ]
  },
  {
   "cell_type": "code",
   "execution_count": 8,
   "metadata": {},
   "outputs": [
    {
     "name": "stdout",
     "output_type": "stream",
     "text": [
      "<class 'dict'>\n",
      "{'coord': {'lon': -87.22, 'lat': 30.42}, 'weather': [{'id': 801, 'main': 'Clouds', 'description': 'few clouds', 'icon': '02d'}], 'base': 'stations', 'main': {'temp': 86.07, 'feels_like': 88.68, 'temp_min': 84, 'temp_max': 91.4, 'pressure': 1012, 'humidity': 52}, 'visibility': 10000, 'wind': {'speed': 5.82, 'deg': 20}, 'clouds': {'all': 20}, 'dt': 1600460515, 'sys': {'type': 1, 'id': 5382, 'country': 'US', 'sunrise': 1600428917, 'sunset': 1600473030}, 'timezone': -18000, 'id': 4168228, 'name': 'Pensacola', 'cod': 200}\n"
     ]
    }
   ],
   "source": [
    "# parsing a string to extract the data is a pain! \n",
    "# Let's get something more useful.\n",
    "\n",
    "#turn into json/dict format\n",
    "json_data = req.json()\n",
    "print(type(json_data))\n",
    "print(json_data)"
   ]
  },
  {
   "cell_type": "code",
   "execution_count": 9,
   "metadata": {},
   "outputs": [
    {
     "name": "stdout",
     "output_type": "stream",
     "text": [
      "{'base': 'stations',\n",
      " 'clouds': {'all': 20},\n",
      " 'cod': 200,\n",
      " 'coord': {'lat': 30.42, 'lon': -87.22},\n",
      " 'dt': 1600460515,\n",
      " 'id': 4168228,\n",
      " 'main': {'feels_like': 88.68,\n",
      "          'humidity': 52,\n",
      "          'pressure': 1012,\n",
      "          'temp': 86.07,\n",
      "          'temp_max': 91.4,\n",
      "          'temp_min': 84},\n",
      " 'name': 'Pensacola',\n",
      " 'sys': {'country': 'US',\n",
      "         'id': 5382,\n",
      "         'sunrise': 1600428917,\n",
      "         'sunset': 1600473030,\n",
      "         'type': 1},\n",
      " 'timezone': -18000,\n",
      " 'visibility': 10000,\n",
      " 'weather': [{'description': 'few clouds',\n",
      "              'icon': '02d',\n",
      "              'id': 801,\n",
      "              'main': 'Clouds'}],\n",
      " 'wind': {'deg': 20, 'speed': 5.82}}\n"
     ]
    }
   ],
   "source": [
    "# Hmm.... still hard to read. \n",
    "# Let's pretty print it! \n",
    "pprint(json_data)\n",
    "# Much easier to read! \n",
    "# Note the nested dictionaries and nested lists"
   ]
  },
  {
   "cell_type": "code",
   "execution_count": 16,
   "metadata": {},
   "outputs": [
    {
     "name": "stdout",
     "output_type": "stream",
     "text": [
      "5.82\n"
     ]
    }
   ],
   "source": [
    "# Access data by traversing the dictionary. \n",
    "# Use dictionary access and list access methods\n",
    "# access wind info\n",
    "\n",
    "wind = json_data['wind']['speed']\n",
    "print(wind)"
   ]
  },
  {
   "cell_type": "code",
   "execution_count": 14,
   "metadata": {},
   "outputs": [
    {
     "data": {
      "text/plain": [
       "'few clouds'"
      ]
     },
     "execution_count": 14,
     "metadata": {},
     "output_type": "execute_result"
    }
   ],
   "source": [
    "# Lists can also be used in JSON/dicts\n",
    "# access weather description\n",
    "\n",
    "weather_desc = json_data['weather'][0]['description']\n",
    "weather_desc"
   ]
  },
  {
   "cell_type": "markdown",
   "metadata": {},
   "source": [
    "#### Final Thoughts:\n",
    "1. APIs limit requests. Especially free ones. \n",
    "2. If you run out of requests you will have to wait until more are allowed. \n",
    "3. For the homework: Run small batches of requests until you get good code. Then run all requests. \n",
    "4. Avoid unecessarily running the code to make API calls once it's working. \n",
    "5. API calls can be notoriously slow! \n",
    "6. This HW is a gread candiate for your portfolio! Start early and make it awesome! "
   ]
  },
  {
   "cell_type": "markdown",
   "metadata": {},
   "source": [
    "https://restfulapi.net/http-methods/"
   ]
  },
  {
   "cell_type": "code",
   "execution_count": 27,
   "metadata": {},
   "outputs": [
    {
     "name": "stdout",
     "output_type": "stream",
     "text": [
      "{'city': ['St Louis', 'Reykjavik', 'Fairbanks', 'Tamarindo', 'Madison'],\n",
      " 'humidity': [38, 71, 66, 61, 57],\n",
      " 'pressure': [1024, 1018, 999, 1010, 1017],\n",
      " 'temperature': [71.85, 49.33, 50.95, 88.48, 76.53]}\n"
     ]
    },
    {
     "data": {
      "text/html": [
       "<style  type=\"text/css\" >\n",
       "</style><table id=\"T_757cef17_f9ee_11ea_bc05_d0577b3d6255\" ><thead>    <tr>        <th class=\"col_heading level0 col0\" >city</th>        <th class=\"col_heading level0 col1\" >temperature</th>        <th class=\"col_heading level0 col2\" >humidity</th>        <th class=\"col_heading level0 col3\" >pressure</th>    </tr></thead><tbody>\n",
       "                <tr>\n",
       "                                <td id=\"T_757cef17_f9ee_11ea_bc05_d0577b3d6255row0_col0\" class=\"data row0 col0\" >St Louis</td>\n",
       "                        <td id=\"T_757cef17_f9ee_11ea_bc05_d0577b3d6255row0_col1\" class=\"data row0 col1\" >71.850000</td>\n",
       "                        <td id=\"T_757cef17_f9ee_11ea_bc05_d0577b3d6255row0_col2\" class=\"data row0 col2\" >38</td>\n",
       "                        <td id=\"T_757cef17_f9ee_11ea_bc05_d0577b3d6255row0_col3\" class=\"data row0 col3\" >1024</td>\n",
       "            </tr>\n",
       "            <tr>\n",
       "                                <td id=\"T_757cef17_f9ee_11ea_bc05_d0577b3d6255row1_col0\" class=\"data row1 col0\" >Reykjavik</td>\n",
       "                        <td id=\"T_757cef17_f9ee_11ea_bc05_d0577b3d6255row1_col1\" class=\"data row1 col1\" >49.330000</td>\n",
       "                        <td id=\"T_757cef17_f9ee_11ea_bc05_d0577b3d6255row1_col2\" class=\"data row1 col2\" >71</td>\n",
       "                        <td id=\"T_757cef17_f9ee_11ea_bc05_d0577b3d6255row1_col3\" class=\"data row1 col3\" >1018</td>\n",
       "            </tr>\n",
       "            <tr>\n",
       "                                <td id=\"T_757cef17_f9ee_11ea_bc05_d0577b3d6255row2_col0\" class=\"data row2 col0\" >Fairbanks</td>\n",
       "                        <td id=\"T_757cef17_f9ee_11ea_bc05_d0577b3d6255row2_col1\" class=\"data row2 col1\" >50.950000</td>\n",
       "                        <td id=\"T_757cef17_f9ee_11ea_bc05_d0577b3d6255row2_col2\" class=\"data row2 col2\" >66</td>\n",
       "                        <td id=\"T_757cef17_f9ee_11ea_bc05_d0577b3d6255row2_col3\" class=\"data row2 col3\" >999</td>\n",
       "            </tr>\n",
       "            <tr>\n",
       "                                <td id=\"T_757cef17_f9ee_11ea_bc05_d0577b3d6255row3_col0\" class=\"data row3 col0\" >Tamarindo</td>\n",
       "                        <td id=\"T_757cef17_f9ee_11ea_bc05_d0577b3d6255row3_col1\" class=\"data row3 col1\" >88.480000</td>\n",
       "                        <td id=\"T_757cef17_f9ee_11ea_bc05_d0577b3d6255row3_col2\" class=\"data row3 col2\" >61</td>\n",
       "                        <td id=\"T_757cef17_f9ee_11ea_bc05_d0577b3d6255row3_col3\" class=\"data row3 col3\" >1010</td>\n",
       "            </tr>\n",
       "            <tr>\n",
       "                                <td id=\"T_757cef17_f9ee_11ea_bc05_d0577b3d6255row4_col0\" class=\"data row4 col0\" >Madison</td>\n",
       "                        <td id=\"T_757cef17_f9ee_11ea_bc05_d0577b3d6255row4_col1\" class=\"data row4 col1\" >76.530000</td>\n",
       "                        <td id=\"T_757cef17_f9ee_11ea_bc05_d0577b3d6255row4_col2\" class=\"data row4 col2\" >57</td>\n",
       "                        <td id=\"T_757cef17_f9ee_11ea_bc05_d0577b3d6255row4_col3\" class=\"data row4 col3\" >1017</td>\n",
       "            </tr>\n",
       "    </tbody></table>"
      ],
      "text/plain": [
       "<pandas.io.formats.style.Styler at 0x1e60febeee0>"
      ]
     },
     "execution_count": 27,
     "metadata": {},
     "output_type": "execute_result"
    }
   ],
   "source": [
    "# Create a list of cities of your choice\n",
    "\n",
    "cities_list = ['st. louis', 'reykjavik', 'fairbanks', 'tamarindo', 'madison']\n",
    "\n",
    "# Create data structure to hold data points (at least 2)\n",
    "\n",
    "city_weather = {\"city\":[],\n",
    "                \"temperature\": [],\n",
    "                \"humidity\":[],\n",
    "                \"pressure\":[]}\n",
    "\n",
    "# Loop over list of cities and add data to data structure\n",
    "\n",
    "for city in cities_list:\n",
    "    base_url = \"http://api.openweathermap.org/data/2.5/weather?units=Imperial&APPID=\" + api_key\n",
    "    \n",
    "    # send http request\n",
    "    req = requests.get(base_url + f'&q={city}')\n",
    "    \n",
    "    # jsonify data becaus it's text\n",
    "    data = req.json()\n",
    "    \n",
    "    #add values to our city_weater dict\n",
    "    city_weather[\"city\"].append(data['name'])\n",
    "    city_weather[\"temperature\"].append(data['main']['temp'])\n",
    "    city_weather[\"humidity\"].append(data['main']['humidity'])\n",
    "    city_weather[\"pressure\"].append(data['main']['pressure'])\n",
    "    \n",
    "    \n",
    "    \n",
    "# print our data\n",
    "pprint(city_weather)\n",
    "\n",
    "# convert to DataFrame\n",
    "\n",
    "weather_df = pd.DataFrame.from_dict(city_weather).style.hide_index()\n",
    "weather_df"
   ]
  },
  {
   "cell_type": "markdown",
   "metadata": {},
   "source": [
    "### Bonus A'Biel's Question\n",
    "What does the webiste of an API look like? \n",
    "\n",
    "You will get data back but not in HTML format\n",
    "\n",
    "Replace the `<API_KEY>` with your api_key and visit the site. Remove the `<>` too! \n",
    "\n",
    "Depending on your browser you should see json data.\n",
    "\n",
    "Don't try to click this lik without editing the API key. It won't work. Copy and edit in your browser.\n",
    "\n",
    "`http://api.openweathermap.org/data/2.5/weather?units=Imperial&APPID=<API_KEY>&q=phoenix`"
   ]
  },
  {
   "cell_type": "code",
   "execution_count": null,
   "metadata": {},
   "outputs": [],
   "source": []
  },
  {
   "cell_type": "code",
   "execution_count": null,
   "metadata": {},
   "outputs": [],
   "source": []
  },
  {
   "cell_type": "code",
   "execution_count": null,
   "metadata": {},
   "outputs": [],
   "source": []
  }
 ],
 "metadata": {
  "kernelspec": {
   "display_name": "Python 3",
   "language": "python",
   "name": "python3"
  },
  "language_info": {
   "codemirror_mode": {
    "name": "ipython",
    "version": 3
   },
   "file_extension": ".py",
   "mimetype": "text/x-python",
   "name": "python",
   "nbconvert_exporter": "python",
   "pygments_lexer": "ipython3",
   "version": "3.8.5"
  }
 },
 "nbformat": 4,
 "nbformat_minor": 4
}
